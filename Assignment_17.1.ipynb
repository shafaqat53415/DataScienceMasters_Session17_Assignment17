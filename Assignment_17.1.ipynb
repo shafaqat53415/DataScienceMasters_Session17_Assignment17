{
 "cells": [
  {
   "cell_type": "code",
   "execution_count": 1,
   "metadata": {},
   "outputs": [],
   "source": [
    "# Problem Statement 1:\n",
    "#Blood glucose levels for obese patients have a mean of 100 with a standard deviation of\n",
    "#15. A researcher thinks that a diet high in raw cornstarch will have a positive effect on\n",
    "#blood glucose levels. A sample of 36 patients who have tried the raw cornstarch diet\n",
    "#have a mean glucose level of 108. Test the hypothesis that the raw cornstarch had an\n",
    "#effect or not."
   ]
  },
  {
   "cell_type": "code",
   "execution_count": 2,
   "metadata": {},
   "outputs": [],
   "source": [
    "import numpy as np\n",
    "import math"
   ]
  },
  {
   "cell_type": "code",
   "execution_count": 3,
   "metadata": {},
   "outputs": [
    {
     "name": "stdout",
     "output_type": "stream",
     "text": [
      "The Z score is 3.200\n"
     ]
    }
   ],
   "source": [
    "#Given Data\n",
    "#Population mean\n",
    "U = 100\n",
    "#Population Std. Deviation\n",
    "S = 15\n",
    "#Sample size\n",
    "n = 36\n",
    "#Sample mean\n",
    "u = 108\n",
    "#Assumed Null hypothesis that the raw cornstarch diet has no effect on the patients\n",
    "# ==> H0: U = 100\n",
    "#And the alternate hypothesis that the raw cornstarch diet has positive effect on the partients\n",
    "# ==> H1: U > 100\n",
    "#Sample Std. Deviation \n",
    "s = S/math.sqrt(n)\n",
    "#Confidence level assumed as 5%\n",
    "# ==> a = 0.05\n",
    "#Z score is calculated using the formula\n",
    "Z = (u-U)/s\n",
    "print('The Z score is {:.3f}'.format(Z))"
   ]
  },
  {
   "cell_type": "code",
   "execution_count": 4,
   "metadata": {},
   "outputs": [],
   "source": [
    "# The probability of assumed confidence level also gives the threshold value\n",
    "# Since the confidence level is assumed as 5%, threshold value is calculated as the probability for a Z score of 0.05\n",
    "# Hence, the threshold value is 1.65 \n",
    "# And Since the Z score for our data is greater than threshold value we can safely reject our null hypothesis i.e.,\n",
    "# the diet had no effect on the patients.\n",
    "# And conclude that our alternate hypothesis holds true i.e., the raw cornstarch had a positive effect on the patients."
   ]
  }
 ],
 "metadata": {
  "kernelspec": {
   "display_name": "Python 3",
   "language": "python",
   "name": "python3"
  },
  "language_info": {
   "codemirror_mode": {
    "name": "ipython",
    "version": 3
   },
   "file_extension": ".py",
   "mimetype": "text/x-python",
   "name": "python",
   "nbconvert_exporter": "python",
   "pygments_lexer": "ipython3",
   "version": "3.6.5"
  }
 },
 "nbformat": 4,
 "nbformat_minor": 2
}
