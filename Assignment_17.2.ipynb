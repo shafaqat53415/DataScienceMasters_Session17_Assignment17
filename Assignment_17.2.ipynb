{
 "cells": [
  {
   "cell_type": "code",
   "execution_count": 1,
   "metadata": {},
   "outputs": [],
   "source": [
    "#Problem Statement 2:\n",
    "#In one state, 52% of the voters are Republicans, and 48% are Democrats. In a second\n",
    "#State, 47% of the voters are Republicans, and 53% are Democrats. Suppose a simple\n",
    "#random sample of 100 voters are surveyed from each state.\n",
    "#What is the probability that the survey will show a greater percentage of Republican\n",
    "#voters in the second state than in the first state?"
   ]
  },
  {
   "cell_type": "code",
   "execution_count": 7,
   "metadata": {},
   "outputs": [],
   "source": [
    "import math"
   ]
  },
  {
   "cell_type": "code",
   "execution_count": 8,
   "metadata": {},
   "outputs": [
    {
     "name": "stdout",
     "output_type": "stream",
     "text": [
      "The calculated Z score is -0.708\n"
     ]
    }
   ],
   "source": [
    "# Given data\n",
    "# The Probability of Republican voters in State 1\n",
    "P1 = 0.52\n",
    "# The Probability of Republican voters in State 2\n",
    "P2 = 0.47\n",
    "#Sample size from State 1\n",
    "n1 = 100\n",
    "#Sample size from State 2\n",
    "n2 = 100\n",
    "# Calculate the mean difference of the two samples\n",
    "ud = P1 - P2\n",
    "# Calculate the Std. Deviation of difference\n",
    "s = math.sqrt(((P1 * (1 - P1))/ n1) + ((P2 * (1 - P2))/n2))\n",
    "#Since, the requirement is to calculate the probability of Republican voters with greater % from state 2\n",
    "Z = (0 - ud)/s\n",
    "print('The calculated Z score is {:.3f}'.format(Z))"
   ]
  },
  {
   "cell_type": "code",
   "execution_count": 6,
   "metadata": {},
   "outputs": [],
   "source": [
    "# The probability of calculated Z score from Z table is taken as 0.2394\n",
    "# ==> The probability of Republican voters in State 2 are greater than State 1 is 23.94% ~ 24%"
   ]
  }
 ],
 "metadata": {
  "kernelspec": {
   "display_name": "Python 3",
   "language": "python",
   "name": "python3"
  },
  "language_info": {
   "codemirror_mode": {
    "name": "ipython",
    "version": 3
   },
   "file_extension": ".py",
   "mimetype": "text/x-python",
   "name": "python",
   "nbconvert_exporter": "python",
   "pygments_lexer": "ipython3",
   "version": "3.6.5"
  }
 },
 "nbformat": 4,
 "nbformat_minor": 2
}
